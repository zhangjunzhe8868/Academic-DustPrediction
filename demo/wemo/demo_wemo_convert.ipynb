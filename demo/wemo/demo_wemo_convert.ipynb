{
 "cells": [
  {
   "cell_type": "markdown",
   "id": "92503603",
   "metadata": {},
   "source": []
  },
  {
   "cell_type": "markdown",
   "id": "7a2a04a8",
   "metadata": {},
   "source": []
  },
  {
   "cell_type": "code",
   "execution_count": 1,
   "id": "b12a855b",
   "metadata": {},
   "outputs": [],
   "source": [
    "import datetime\n",
    "import numpy as np\n",
    "from osgeo import gdal"
   ]
  },
  {
   "cell_type": "code",
   "execution_count": 29,
   "id": "6807d08a",
   "metadata": {},
   "outputs": [],
   "source": [
    "data_in = gdal.Open(r\"convert_2015_input.dat\")\n",
    "im_width = data_in.RasterXSize\n",
    "im_height = data_in.RasterYSize\n",
    "im_band = data_in.RasterCount\n",
    "im_geotrans = data_in.GetGeoTransform()\n",
    "im_proj = data_in.GetProjection()"
   ]
  },
  {
   "cell_type": "code",
   "execution_count": 30,
   "id": "226dd51f",
   "metadata": {},
   "outputs": [],
   "source": [
    "data_aux = gdal.Open(r\"ml_2015_input.dat\")\n",
    "aux = data_aux.ReadAsArray(0, 0, im_width, im_height)\n",
    "veg = aux[6, :, :]\n",
    "clay = aux[9, :, :]\n",
    "veg=veg.reshape(-1,1)\n",
    "clay=clay.reshape(-1,1)"
   ]
  },
  {
   "cell_type": "code",
   "execution_count": 31,
   "id": "0186ef04",
   "metadata": {},
   "outputs": [],
   "source": [
    "zheight = 1000  # height where wind speed was measured, cm\n",
    "z0 = 7.9  # roughness length, cm\n",
    "A = 0.026\n",
    "p = 0.00129   # g/cm3\n",
    "g = 980  # cm/s2\n",
    "\n",
    "u = np.array([1, 2, 3, 4, 5, 6, 7, 8, 9, 10])*100  # windspeed\n",
    "ustar_hist = np.array([wind1, wind2, wind3, wind4, wind5,\n",
    "                       wind6, wind7, wind8, wind9, wind10])  # frequency\n",
    "ustar = (u*0.4)/np.log10(zheight/z0)\n",
    "ustar_hist = ustar_hist/np.sum(ustar_hist)"
   ]
  },
  {
   "cell_type": "code",
   "execution_count": 32,
   "id": "2d71a4e3",
   "metadata": {},
   "outputs": [],
   "source": [
    "data_read = data_in.ReadAsArray(0, 0, im_width, im_height)\n",
    "omega_ns1 = data_read[0, :, :]\n",
    "omega_ns2 = data_read[1, :, :]\n",
    "omega_ns3 = data_read[2, :, :]\n",
    "omega_ns4 = data_read[3, :, :]\n",
    "omega_ns5 = data_read[4, :, :]\n",
    "omega_ns6 = data_read[5, :, :]\n",
    "omega_ns7 = data_read[6, :, :]"
   ]
  },
  {
   "cell_type": "code",
   "execution_count": 33,
   "id": "5cb0194e",
   "metadata": {},
   "outputs": [],
   "source": [
    "# build wind pdf\n",
    "wind1 = 0\n",
    "wind2 = 0.1\n",
    "wind3 = 0.4\n",
    "wind4 = 0.192\n",
    "wind5 = 0.133\n",
    "wind6 = 0.083\n",
    "wind7 = 0.042\n",
    "wind8 = 0.05\n",
    "wind9 = 0\n",
    "wind10 = 0"
   ]
  },
  {
   "cell_type": "code",
   "execution_count": 35,
   "id": "3f964cb0",
   "metadata": {},
   "outputs": [],
   "source": [
    "L_omega1 = omega_ns1 / 50\n",
    "L_omega2 = omega_ns2 / 50\n",
    "L_omega3 = omega_ns3 / 50\n",
    "L_omega4 = omega_ns4 / 50\n",
    "L_omega5 = omega_ns5 / 50\n",
    "L_omega6 = omega_ns6 / 50\n",
    "L_omega7 = omega_ns7 / 50\n",
    "\n",
    "mask_sum=np.sum(data_in,axis=0)\n",
    "mask = np.where(mask_sum > 0)\n",
    "veg_mask=veg[mask]\n",
    "clay_mask=clay[mask]\n",
    "L_omega1_mask = L_omega1.reshape(-1,1)[mask]\n",
    "L_omega2_mask = L_omega2.reshape(-1,1)[mask]\n",
    "L_omega3_mask = L_omega3.reshape(-1,1)[mask]\n",
    "L_omega4_mask = L_omega4.reshape(-1,1)[mask]\n",
    "L_omega5_mask = L_omega5.reshape(-1,1)[mask]\n",
    "L_omega6_mask = L_omega6.reshape(-1,1)[mask]\n",
    "L_omega7_mask = L_omega7.reshape(-1,1)[mask]\n",
    "\n",
    "L_array = np.array([L_omega1_mask, L_omega2_mask, L_omega3_mask, L_omega4_mask,\n",
    "                    L_omega5_mask, L_omega6_mask, L_omega7_mask])"
   ]
  },
  {
   "cell_type": "code",
   "execution_count": 42,
   "id": "ab5cd6d5",
   "metadata": {},
   "outputs": [
    {
     "name": "stdout",
     "output_type": "stream",
     "text": [
      "2023-01-27 19:02:18.849678\n",
      "2023-01-27 19:05:21.335225\n",
      "2023-01-27 19:08:22.303377\n",
      "2023-01-27 19:11:21.649914\n",
      "2023-01-27 19:14:19.039222\n",
      "2023-01-27 19:17:17.572139\n",
      "2023-01-27 19:20:15.618439\n"
     ]
    }
   ],
   "source": [
    "c=2015\n",
    "for z in range(7):\n",
    "    temp_L = L_array[z]\n",
    "    # wemo5_core\n",
    "    n_windspeeds = ustar.size\n",
    "    q = np.zeros((n_windspeeds))\n",
    "    q_array = np.zeros((n_windspeeds))\n",
    "    Ftot_veg = np.zeros(temp_L.size)\n",
    "    Ftot_bare = np.zeros(temp_L.size)\n",
    "    f = np.zeros(temp_L.size)\n",
    "    qtot = np.zeros(temp_L.size)\n",
    "    k_con = np.zeros(temp_L.size)\n",
    "\n",
    "    for i in range(temp_L.size):\n",
    "        for k in range(0, n_windspeeds):\n",
    "            temp_m = 0.0000009 * ustar[k] ** 3.54\n",
    "            temp_p = 0.0001 * ustar[k] ** 0.85\n",
    "            q_array[k] = temp_m * np.exp((-temp_L[i] ** 1.48 / temp_p))\n",
    "            q[k] = q_array[k] * ustar_hist[k]\n",
    "\n",
    "        qtot[i] = np.sum(q)\n",
    "        if qtot[i] < 0:\n",
    "            qtot[i] = 0\n",
    "        qtot[i] = qtot[i] * 3600 * 24\n",
    "        if clay_mask[i] < 20:\n",
    "            k_con[i] = np.exp(0.134 * clay_mask[i] - 6)\n",
    "        else:\n",
    "            k_con[i] = 0.005\n",
    "        f[i] = qtot[i] * k_con[i]\n",
    "        Ftot_veg[i] = f[i] * (100 - veg_mask[i]) / 100 / 30\n",
    "        # Ftot_bare[i] = f[i] * bare[i] / 100\n",
    "\n",
    "    print(datetime.datetime.now())\n",
    "    # output to a image\n",
    "    myarray = np.array([temp_L, qtot, Ftot_veg])\n",
    "    mylist = [\"temp_L\", \"qtot\", \"Ftot_veg\"]\n",
    "    temp = veg.reshape(im_width*im_height)\n",
    "    out_image = np.zeros((len(mylist), im_height, im_width))\n",
    "    for s in range(len(mylist)):\n",
    "        new = np.zeros(im_width*im_height)\n",
    "        new[mask] = myarray[s, :]\n",
    "        out_image[s, :, :] = new.reshape(im_height, im_width)\n",
    "\n",
    "    z1 = str(z+1)\n",
    "    driver = gdal.GetDriverByName(\"ENVI\")\n",
    "    dataset = driver.Create(\"convert_\"str(c)+\"_result_\"+z1+\".dat\",\n",
    "                            im_width, im_height, len(mylist), gdal.GDT_Float32)\n",
    "    dataset.SetGeoTransform(im_geotrans)\n",
    "    dataset.SetProjection(im_proj)\n",
    "    # dataset.GetRasterBand(1).WriteArray(out_image)\n",
    "    for s, image in enumerate(out_image, 1):\n",
    "        dataset.GetRasterBand(s).SetNoDataValue(0)\n",
    "        dataset.GetRasterBand(s).SetDescription(mylist[s-1])\n",
    "        dataset.GetRasterBand(s).WriteArray(image)\n",
    "\n",
    "    del dataset"
   ]
  },
  {
   "cell_type": "code",
   "execution_count": null,
   "id": "33cffcf6",
   "metadata": {},
   "outputs": [],
   "source": []
  }
 ],
 "metadata": {
  "kernelspec": {
   "display_name": "Python 3 (ipykernel)",
   "language": "python",
   "name": "python3"
  },
  "language_info": {
   "codemirror_mode": {
    "name": "ipython",
    "version": 3
   },
   "file_extension": ".py",
   "mimetype": "text/x-python",
   "name": "python",
   "nbconvert_exporter": "python",
   "pygments_lexer": "ipython3",
   "version": "3.9.13"
  }
 },
 "nbformat": 4,
 "nbformat_minor": 5
}
