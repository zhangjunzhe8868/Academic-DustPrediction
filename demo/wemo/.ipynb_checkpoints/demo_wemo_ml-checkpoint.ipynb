{
 "cells": [
  {
   "cell_type": "markdown",
   "id": "eaae6533",
   "metadata": {},
   "source": []
  },
  {
   "cell_type": "markdown",
   "id": "62bbcfc0",
   "metadata": {},
   "source": []
  },
  {
   "cell_type": "code",
   "execution_count": 2,
   "id": "011d6997",
   "metadata": {},
   "outputs": [],
   "source": [
    "import numpy as np\n",
    "from osgeo import gdal\n",
    "import datetime"
   ]
  },
  {
   "cell_type": "code",
   "execution_count": 3,
   "id": "e7a0d133",
   "metadata": {},
   "outputs": [],
   "source": [
    "data_in = gdal.Open(r\"ml_2015_input.dat\")\n",
    "im_width = data_in.RasterXSize\n",
    "im_height = data_in.RasterYSize\n",
    "im_band = data_in.RasterCount\n",
    "im_geotrans = data_in.GetGeoTransform()\n",
    "im_proj = data_in.GetProjection()"
   ]
  },
  {
   "cell_type": "code",
   "execution_count": 4,
   "id": "fc5e73a7",
   "metadata": {},
   "outputs": [],
   "source": [
    "zheight = 1000  # height where wind speed was measured, cm\n",
    "z0 = 7.9  # roughness length, cm\n",
    "A = 0.026\n",
    "efld = 5.6  # e-folding of u*s/u* vs x/h\n",
    "U = 0.29  # value of u*s/u* at x=0\n",
    "minsize = 0.05  # minimum scaled gap size\n",
    "maxsize = 100  # maximum scaled gap size\n",
    "# ust = 25  # unvegetated soil threshold shear velocity, u*t, cm/s\n",
    "p = 0.00129   # g/cm3\n",
    "g = 980  # cm/s2"
   ]
  },
  {
   "cell_type": "code",
   "execution_count": 5,
   "id": "9b05467e",
   "metadata": {},
   "outputs": [],
   "source": [
    "data_read = data_in.ReadAsArray(0, 0, im_width, im_height)\n",
    "gap25 = data_read[0, :, :]\n",
    "gap50 = data_read[1, :, :]\n",
    "gap100 = data_read[2, :, :]\n",
    "gap200 = data_read[3, :, :]\n",
    "gap250 = data_read[4, :, :]\n",
    "bare = data_read[5, :, :]\n",
    "veg = data_read[6, :, :]\n",
    "plth = data_read[7, :, :]\n",
    "wind = data_read[8, :, :]\n",
    "sand = data_read[9, :, :]\n",
    "clay = data_read[10, :, :]\n",
    "rock = data_read[11, :, :]"
   ]
  },
  {
   "cell_type": "code",
   "execution_count": 7,
   "id": "d643fe36",
   "metadata": {},
   "outputs": [],
   "source": [
    "mask_sum=np.sum(data_read,axis=0)\n",
    "mask = np.where(mask_sum > 1)\n",
    "gap25_mask = gap25[mask]\n",
    "gap50_mask = gap50[mask]\n",
    "gap100_mask = gap100[mask]\n",
    "gap200_mask = gap200[mask]\n",
    "gap250_mask = gap250[mask]\n",
    "bare_mask = bare[mask]\n",
    "veg_mask = veg[mask]\n",
    "plth_mask = plth[mask]\n",
    "wind_mask = wind[mask]\n",
    "sand_mask = sand[mask]\n",
    "clay_mask = clay[mask]\n",
    "rock_mask = rock[mask]"
   ]
  },
  {
   "cell_type": "code",
   "execution_count": 8,
   "id": "ddcd1c68",
   "metadata": {},
   "outputs": [],
   "source": [
    "# build wind pdf\n",
    "wind1 = 0.1\n",
    "wind2 = 0.2\n",
    "wind3 = 0.3\n",
    "wind4 = 0.3\n",
    "wind5 = 0.1\n",
    "u = np.array([1, 2, 3, 4, 5]) * 100  # windspeed\n",
    "ustar_hist = np.array([wind1, wind2, wind3, wind4, wind5])  # frequency\n",
    "ustar = (u * 0.4) / np.log10(zheight / z0)\n",
    "ustar_hist = ustar_hist / np.sum(ustar_hist)"
   ]
  },
  {
   "cell_type": "code",
   "execution_count": 9,
   "id": "af03eb62",
   "metadata": {},
   "outputs": [],
   "source": [
    "# build gap pdf\n",
    "gap_sum = gap25_mask + gap50_mask + gap100_mask + gap200_mask + gap250_mask\n",
    "gap25_dist = gap25_mask / gap_sum\n",
    "gap50_dist = gap50_mask / gap_sum\n",
    "gap100_dist = gap100_mask / gap_sum\n",
    "gap200_dist = gap200_mask / gap_sum\n",
    "gap250_dist = gap250_mask / gap_sum\n",
    "gap_total = np.array([gap25_mask, gap50_mask, gap100_mask,\n",
    "                      gap200_mask, gap250_mask])\n",
    "gap_dist = np.array([gap25_dist, gap50_dist, gap100_dist,\n",
    "                     gap200_dist, gap250_dist])"
   ]
  },
  {
   "cell_type": "code",
   "execution_count": 10,
   "id": "a6249ada",
   "metadata": {},
   "outputs": [],
   "source": [
    "# gapsize and non_smoothpd\n",
    "x = np.array([37.5/plth_mask, 75/plth_mask, 150/plth_mask,\n",
    "              225/plth_mask, 500/plth_mask])   # sclaed gap size\n",
    "pg = gap_dist  # probability distribution of the size of unvegetated gap\n",
    "pd = pg / x\n",
    "for i in range(x.shape[0]):\n",
    "    temp = np.where((x[i, :] < minsize) | (x[i, :] > maxsize))\n",
    "    temp = np.array(temp)\n",
    "    if temp.shape != 0:\n",
    "        pd[i, temp] = 0"
   ]
  },
  {
   "cell_type": "code",
   "execution_count": 14,
   "id": "b4abf81a",
   "metadata": {},
   "outputs": [],
   "source": [
    "# wemo5_core\n",
    "n_windspeeds = ustar.size\n",
    "n_x = gap_dist.shape[0]\n",
    "q = np.zeros((n_x, n_windspeeds))\n",
    "q_array = np.zeros((n_x))\n",
    "Ftot_veg = np.zeros((gap_dist.shape[1]))\n",
    "Ftot_bare = np.zeros((gap_dist.shape[1]))\n",
    "ust = np.zeros((gap_dist.shape[1]))\n",
    "f = np.zeros((gap_dist.shape[1]))\n",
    "qtot = np.zeros((gap_dist.shape[1]))\n",
    "k_con = np.zeros((gap_dist.shape[1]))\n",
    "uss_mean = np.zeros((gap_dist.shape[1]))\n",
    "Us_mean = np.zeros((gap_dist.shape[1]))\n",
    "\n",
    "for i in range(gap_dist.shape[1]):\n",
    "    Us = U + ((1 - U) * (1 - np.exp(-(x[:, i] / efld))))\n",
    "    Us_mean[i] = np.mean(Us)\n",
    "    if clay_mask[i] > 20:\n",
    "        ust[i] = 400 + 2.4 * rock_mask[i]\n",
    "    else:\n",
    "        ust[i] = 165.7 - 139 * (sand_mask[i] + clay_mask[i]) / 100 + 2.4 * rock_mask[i]\n",
    "    for k in range(0, n_windspeeds):\n",
    "        uss = ustar[k] * Us\n",
    "        q_array = A * p / g * uss * ((uss) ** 2 - ust[i] ** 2)\n",
    "        q[:, k] = q_array * ustar_hist[k]\n",
    "    for j in range(0, n_x):\n",
    "        q[j, :] = q[j, :] * pd[j, i]\n",
    "    uss_mean[i] = np.mean(uss)\n",
    "\n",
    "    qtot[i] = A * np.sum(q)\n",
    "    if qtot[i] < 0:\n",
    "        qtot[i] = 0\n",
    "    qtot[i] = qtot[i] * 3600 * 24\n",
    "    if clay_mask[i] < 20:\n",
    "        k_con[i] = np.exp(0.134 * clay_mask[i] - 6)\n",
    "    else:\n",
    "        k_con[i] = 0.005\n",
    "\n",
    "    f[i] = qtot[i] * k_con[i]\n",
    "    Ftot_veg[i] = f[i] * (100 - veg_mask[i]) / 100 * 30\n",
    "    # Ftot_bare[i] = f[i] * bare_mask[i] / 100"
   ]
  },
  {
   "cell_type": "code",
   "execution_count": 15,
   "id": "8173ddc1",
   "metadata": {},
   "outputs": [],
   "source": [
    "# output to a image\n",
    "myarray = np.array([ust, qtot, k_con, f, uss_mean, Us_mean, Ftot_veg])\n",
    "mylist = [\"ust\", \"qtot\", \"k_con\", \"f\", \"uss_mean\", \"Us_mean\", \"Ftot_veg\"]\n",
    "temp = gap25.reshape(im_width*im_height)\n",
    "out_image = np.zeros((len(mylist), im_height, im_width))\n",
    "for s in range(len(mylist)):\n",
    "    new = np.zeros(im_width*im_height)\n",
    "    new[mask] = myarray[s, :]\n",
    "    out_image[s, :, :] = new.reshape(im_height, im_width)"
   ]
  },
  {
   "cell_type": "code",
   "execution_count": 26,
   "id": "1f183fcc",
   "metadata": {},
   "outputs": [],
   "source": [
    "driver = gdal.GetDriverByName(\"ENVI\")\n",
    "dataset = driver.Create(r\"ml_2015_result.dat\", im_width,\n",
    "                        im_height, len(mylist), gdal.GDT_Float32)\n",
    "dataset.SetGeoTransform(im_geotrans)\n",
    "dataset.SetProjection(im_proj)\n",
    "# dataset.GetRasterBand(1).WriteArray(out_image)\n",
    "for s, image in enumerate(out_image, 1):\n",
    "    dataset.GetRasterBand(s).WriteArray(image)\n",
    "    dataset.GetRasterBand(s).SetDescription(mylist[s-1])\n",
    "\n",
    "del dataset"
   ]
  },
  {
   "cell_type": "code",
   "execution_count": null,
   "id": "9b95c83e",
   "metadata": {},
   "outputs": [],
   "source": []
  }
 ],
 "metadata": {
  "kernelspec": {
   "display_name": "Python 3 (ipykernel)",
   "language": "python",
   "name": "python3"
  },
  "language_info": {
   "codemirror_mode": {
    "name": "ipython",
    "version": 3
   },
   "file_extension": ".py",
   "mimetype": "text/x-python",
   "name": "python",
   "nbconvert_exporter": "python",
   "pygments_lexer": "ipython3",
   "version": "3.9.13"
  }
 },
 "nbformat": 4,
 "nbformat_minor": 5
}
