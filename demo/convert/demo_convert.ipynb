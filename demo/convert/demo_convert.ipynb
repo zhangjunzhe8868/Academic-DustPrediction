{
 "cells": [
  {
   "cell_type": "markdown",
   "id": "12b3a417",
   "metadata": {},
   "source": []
  },
  {
   "cell_type": "markdown",
   "id": "1e16d09e",
   "metadata": {},
   "source": []
  },
  {
   "cell_type": "code",
   "execution_count": 1,
   "id": "f04d9688",
   "metadata": {},
   "outputs": [],
   "source": [
    "import datetime\n",
    "import numpy as np\n",
    "from osgeo import gdal"
   ]
  },
  {
   "cell_type": "code",
   "execution_count": 30,
   "id": "1017a2b7",
   "metadata": {},
   "outputs": [
    {
     "name": "stderr",
     "output_type": "stream",
     "text": [
      "<ipython-input-30-7356e5e9a2cd>:25: RuntimeWarning: divide by zero encountered in true_divide\n",
      "  omega_n2 = (1 - albedo2) / (data_new[:,:, 3][mask]/1000)\n",
      "<ipython-input-30-7356e5e9a2cd>:26: RuntimeWarning: divide by zero encountered in true_divide\n",
      "  omega_n3 = (1 - albedo3) / (data_new[:,:, 6][mask]/1000)\n",
      "<ipython-input-30-7356e5e9a2cd>:27: RuntimeWarning: divide by zero encountered in true_divide\n",
      "  omega_n4 = (1 - albedo4) / (data_new[:,:, 9][mask]/1000)\n",
      "<ipython-input-30-7356e5e9a2cd>:28: RuntimeWarning: divide by zero encountered in true_divide\n",
      "  omega_n5 = (1 - albedo5) / (data_new[:,:, 12][mask]/1000)\n",
      "<ipython-input-30-7356e5e9a2cd>:29: RuntimeWarning: divide by zero encountered in true_divide\n",
      "  omega_n6 = (1 - albedo6) / (data_new[:,:, 15][mask]/1000)\n",
      "<ipython-input-30-7356e5e9a2cd>:30: RuntimeWarning: divide by zero encountered in true_divide\n",
      "  omega_n7 = (1 - albedo7) / (data_new[:,:, 18][mask]/1000)\n"
     ]
    }
   ],
   "source": [
    "for i in range(1):\n",
    "    c = str(2015+i)\n",
    "    image = gdal.Open(c+'_mar.dat')\n",
    "    im_width = image.RasterXSize\n",
    "    im_height = image.RasterYSize\n",
    "    im_band = image.RasterCount\n",
    "    im_geotrans = image.GetGeoTransform()\n",
    "    im_proj = image.GetProjection()\n",
    "    data = image.ReadAsArray(0, 0, im_width, im_height)\n",
    "    data_new = np.zeros((im_height, im_width, im_band))\n",
    "    for i in range(im_band):\n",
    "        data_new[:, :, i] = data[i, :, :]\n",
    "    mask_sum=np.sum(data_new,axis=2)\n",
    "    mask = np.where(mask_sum > 1)\n",
    "\n",
    "    albedo = data_new[:, :, -10:]\n",
    "    albedo1 = albedo[:,:, 0][mask]/1000\n",
    "    albedo2 = albedo[:,:, 1][mask]/1000\n",
    "    albedo3 = albedo[:,:, 2][mask]/1000\n",
    "    albedo4 = albedo[:,:, 3][mask]/1000\n",
    "    albedo5 = albedo[:,:, 4][mask]/1000\n",
    "    albedo6 = albedo[:,:, 5][mask]/1000\n",
    "    albedo7 = albedo[:,:, 6][mask]/1000\n",
    "    \n",
    "    omega_ns1 = (1 - albedo1) / (data_new[:,:, 0][mask]/1000)\n",
    "    omega_ns2 = (1 - albedo2) / (data_new[:,:, 3][mask]/1000)\n",
    "    omega_ns3 = (1 - albedo3) / (data_new[:,:, 6][mask]/1000)\n",
    "    omega_ns4 = (1 - albedo4) / (data_new[:,:, 9][mask]/1000)\n",
    "    omega_ns5 = (1 - albedo5) / (data_new[:,:, 12][mask]/1000)\n",
    "    omega_ns6 = (1 - albedo6) / (data_new[:,:, 15][mask]/1000)\n",
    "    omega_ns7 = (1 - albedo7) / (data_new[:,:, 18][mask]/1000)\n",
    "\n",
    "    \n",
    "    myarray = np.array([omega_ns1, omega_ns2, omega_ns3, omega_ns4,\n",
    "                       omega_ns5, omega_ns6, omega_ns7])\n",
    "    mylist = [\"L_omega1\", \"L_omega2\", \"L_omega3\", \"L_omega4\",\n",
    "             \"L_omega5\", \"L_omega6\", \"L_omega7\"]\n",
    "    temp = data_new[:,:, 0].reshape(im_width*im_height)\n",
    "    out_image = np.zeros((len(mylist), im_height, im_width))\n",
    "    for s in range(len(mylist)):\n",
    "        new = np.zeros(im_width*im_height)\n",
    "        new[mask] = myarray[s, :]\n",
    "        out_image[s, :, :] = new.reshape(im_height, im_width)\n",
    "\n",
    "    driver = gdal.GetDriverByName(\"ENVI\")\n",
    "    dataset = driver.Create(r\"convert_\"+c+\"_input.dat\", im_width, im_height,\n",
    "                           len(mylist), gdal.GDT_Float32)\n",
    "    dataset.SetGeoTransform(im_geotrans)\n",
    "    dataset.SetProjection(im_proj)\n",
    "    # dataset.GetRasterBand(1).WriteArray(out_image)\n",
    "    for s, image in enumerate(out_image, 1):\n",
    "        dataset.GetRasterBand(s).SetNoDataValue(0)\n",
    "        dataset.GetRasterBand(s).SetDescription(mylist[s-1])\n",
    "        dataset.GetRasterBand(s).WriteArray(image)\n",
    "\n",
    "    del dataset"
   ]
  },
  {
   "cell_type": "code",
   "execution_count": null,
   "id": "f5470f56",
   "metadata": {},
   "outputs": [],
   "source": []
  }
 ],
 "metadata": {
  "kernelspec": {
   "display_name": "Python 3 (ipykernel)",
   "language": "python",
   "name": "python3"
  },
  "language_info": {
   "codemirror_mode": {
    "name": "ipython",
    "version": 3
   },
   "file_extension": ".py",
   "mimetype": "text/x-python",
   "name": "python",
   "nbconvert_exporter": "python",
   "pygments_lexer": "ipython3",
   "version": "3.9.13"
  }
 },
 "nbformat": 4,
 "nbformat_minor": 5
}
