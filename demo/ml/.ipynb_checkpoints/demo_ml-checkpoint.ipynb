{
 "cells": [
  {
   "cell_type": "markdown",
   "id": "22f846ed",
   "metadata": {},
   "source": []
  },
  {
   "cell_type": "markdown",
   "id": "5168ea0a",
   "metadata": {},
   "source": []
  },
  {
   "cell_type": "code",
   "execution_count": 2,
   "id": "cf83bc55",
   "metadata": {},
   "outputs": [],
   "source": [
    "import datetime\n",
    "import numpy as np\n",
    "from osgeo import gdal\n",
    "from sklearn.ensemble import RandomForestRegressor"
   ]
  },
  {
   "cell_type": "code",
   "execution_count": null,
   "id": "3c93b5d4",
   "metadata": {},
   "outputs": [],
   "source": [
    "mylist = [\"GapPct_25_\",\"GapPct_51_\",\"GapPct_101\",\"GapPct_200\",\"GapPct_251\",\"Herbaceous_h\",\"Woody_h\",\"BareSoilCo\",\"TotalFolia\"]"
   ]
  },
  {
   "cell_type": "code",
   "execution_count": 3,
   "id": "fd2d6ffd",
   "metadata": {},
   "outputs": [
    {
     "name": "stdout",
     "output_type": "stream",
     "text": [
      "2023-01-27 14:53:34.869349\n",
      "(2913825, 9)\n",
      "2023-01-27 14:53:52.333065\n",
      "(2913825, 9)\n",
      "2023-01-27 14:54:09.063864\n",
      "(2913825, 9)\n",
      "2023-01-27 14:54:25.485411\n",
      "(2913825, 9)\n",
      "2023-01-27 14:54:43.658909\n",
      "(2913825, 9)\n",
      "2023-01-27 14:55:00.074729\n",
      "(2913825, 9)\n",
      "2023-01-27 14:55:17.268769\n",
      "(2913825, 9)\n",
      "2023-01-27 14:55:34.447034\n",
      "(2913825, 9)\n",
      "2023-01-27 14:55:52.019495\n",
      "(2913825, 9)\n",
      "2023-01-27 14:56:10.364044\n"
     ]
    }
   ],
   "source": [
    "for i in range(1):\n",
    "    c = str(2015+i)\n",
    "    raw = np.loadtxt(r'aim_input.txt')\n",
    "    train_X = raw[:, 2:41]\n",
    "    image = gdal.Open(c+\"_mar.dat\")\n",
    "    im_width = image.RasterXSize\n",
    "    im_height = image.RasterYSize\n",
    "    im_band = image.RasterCount\n",
    "    im_geotrans = image.GetGeoTransform()\n",
    "    im_proj = image.GetProjection()\n",
    "    data = image.ReadAsArray(0, 0, im_width, im_height)\n",
    "    data_new = np.zeros((im_height, im_width, im_band))\n",
    "    for i in range(im_band):\n",
    "        data_new[:, :, i] = data[i, :, :]\n",
    "    data_reshape = data_new.reshape(im_width*im_height, im_band)\n",
    "    mask_sum=np.sum(data_reshape,axis=1)\n",
    "    mask = np.where(mask_sum > 1)\n",
    "\n",
    "    test = data_reshape[:, 0:data_reshape.shape[1]-3]\n",
    "    test = test[mask]\n",
    "    test[np.where(np.isnan(test) == True)] = 0\n",
    "    pre_test = np.zeros((test.shape[0], len(mylist)))\n",
    "\n",
    "    # RF regression and prediction\n",
    "    print(datetime.datetime.now())\n",
    "    for j in range(len(mylist)):\n",
    "        # choose the train_indicator (aims indicator) and\n",
    "        # train_variable (rs+aux variable)\n",
    "        train_Y = raw[:, 41+j]\n",
    "        # use the default parameters and do the training samples\n",
    "        rf = RandomForestRegressor(oob_score=True,\n",
    "                                   random_state=0, n_jobs=-1)\n",
    "        rf.fit(train_X, train_Y)\n",
    "        # choose a testing sample from the file and test it\n",
    "        pre_test[:, j] = rf.predict(test)\n",
    "        print(pre_test.shape)\n",
    "        print(datetime.datetime.now())"
   ]
  },
  {
   "cell_type": "code",
   "execution_count": 14,
   "id": "f8caa49c",
   "metadata": {},
   "outputs": [],
   "source": [
    "temp = data_reshape[:, 0].reshape(im_width*im_height)\n",
    "out_image = np.zeros((len(mylist), im_height, im_width))\n",
    "for s in range(len(mylist)):\n",
    "    new = np.zeros(im_width*im_height)\n",
    "    new[mask] = pre_test[:, s]\n",
    "    out_image[s, :, :] = new.reshape(im_height, im_width)\n",
    "\n",
    "driver = gdal.GetDriverByName(\"ENVI\")\n",
    "dataset = driver.Create(r\"ml_\"+c+\"_input.dat\", im_width, im_height,\n",
    "                        len(mylist), gdal.GDT_Float32)\n",
    "dataset.SetGeoTransform(im_geotrans)\n",
    "dataset.SetProjection(im_proj)\n",
    "# dataset.GetRasterBand(1).WriteArray(out_image)\n",
    "for s, image in enumerate(out_image, 1):\n",
    "    dataset.GetRasterBand(s).SetNoDataValue(0)\n",
    "    dataset.GetRasterBand(s).SetDescription(mylist[s-1])\n",
    "    dataset.GetRasterBand(s).WriteArray(image)\n",
    "\n",
    "del dataset"
   ]
  },
  {
   "cell_type": "code",
   "execution_count": null,
   "id": "ab6d5551",
   "metadata": {},
   "outputs": [],
   "source": []
  }
 ],
 "metadata": {
  "kernelspec": {
   "display_name": "Python 3 (ipykernel)",
   "language": "python",
   "name": "python3"
  },
  "language_info": {
   "codemirror_mode": {
    "name": "ipython",
    "version": 3
   },
   "file_extension": ".py",
   "mimetype": "text/x-python",
   "name": "python",
   "nbconvert_exporter": "python",
   "pygments_lexer": "ipython3",
   "version": "3.9.13"
  }
 },
 "nbformat": 4,
 "nbformat_minor": 5
}
